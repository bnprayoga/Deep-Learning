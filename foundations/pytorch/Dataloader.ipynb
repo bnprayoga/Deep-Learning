{
 "cells": [
  {
   "cell_type": "markdown",
   "id": "ef1a8659-bf9e-4009-a68c-1a5150ec8586",
   "metadata": {},
   "source": [
    "# Learning Data Loader of Pytor"
   ]
  }
 ],
 "metadata": {
  "kernelspec": {
   "display_name": "Python 3 (ipykernel)",
   "language": "python",
   "name": "python3"
  },
  "language_info": {
   "codemirror_mode": {
    "name": "ipython",
    "version": 3
   },
   "file_extension": ".py",
   "mimetype": "text/x-python",
   "name": "python",
   "nbconvert_exporter": "python",
   "pygments_lexer": "ipython3",
   "version": "3.9.18"
  }
 },
 "nbformat": 4,
 "nbformat_minor": 5
}
