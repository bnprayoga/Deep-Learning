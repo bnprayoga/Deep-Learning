{
 "cells": [
  {
   "cell_type": "markdown",
   "id": "35783ac0-8920-46f0-9bf4-3372ffe96b88",
   "metadata": {},
   "source": [
    "# Feed Forward Neural Networks"
   ]
  },
  {
   "cell_type": "code",
   "execution_count": 9,
   "id": "a0b3a228-1f52-4ce4-982a-376d5e90458a",
   "metadata": {},
   "outputs": [],
   "source": [
    "# import libraries\n",
    "import numpy as np\n",
    "import pandas as pd\n",
    "import torch, torchvision\n",
    "import torch.nn as nn\n",
    "import torchvision.transforms as transforms\n",
    "from torch.utils.data import DataLoader\n",
    "import matplotlib.pyplot as plt"
   ]
  },
  {
   "cell_type": "markdown",
   "id": "11636e89-54ad-4c68-8ae3-119eef6d0de7",
   "metadata": {},
   "source": [
    "## Device Configuration"
   ]
  },
  {
   "cell_type": "code",
   "execution_count": 4,
   "id": "16898f2b-4e14-4170-8bc6-3968961ada02",
   "metadata": {},
   "outputs": [],
   "source": [
    "# run on GPU, otherwise use CPU\n",
    "device = torch.device('cuda' if torch.cuda.is_available() else 'cpu')"
   ]
  },
  {
   "cell_type": "markdown",
   "id": "521ef2c5-6675-429c-a3bb-63a3e6d96796",
   "metadata": {},
   "source": [
    "## Setting Hyperparameters"
   ]
  },
  {
   "cell_type": "code",
   "execution_count": 224,
   "id": "ca26ac08-23af-4858-ad3d-270078790902",
   "metadata": {},
   "outputs": [],
   "source": [
    "input_size = 28*28 #784\n",
    "hidden_layer1_size = 28*4\n",
    "hidden_layer2_size = 28\n",
    "num_classes = 10\n",
    "num_epochs = 10\n",
    "batch_size = 100\n",
    "learning_rate = 0.001"
   ]
  },
  {
   "cell_type": "markdown",
   "id": "a1402be9-b440-4d6b-a9a5-837f7cd3efd1",
   "metadata": {},
   "source": [
    "## Manage Dataset"
   ]
  },
  {
   "cell_type": "code",
   "execution_count": 87,
   "id": "1f565d48-6a44-4dde-b098-7ddebc7d7c05",
   "metadata": {},
   "outputs": [],
   "source": [
    "# load traning dataset\n",
    "train_dataset = torchvision.datasets.MNIST(\n",
    "    root = './data/handigits/train',\n",
    "    train = True,\n",
    "    transform = transforms.ToTensor(),\n",
    "    download = True\n",
    ")\n",
    "\n",
    "# load testing dataset\n",
    "test_dataset = torchvision.datasets.MNIST(\n",
    "    root = './data/handigits/test',\n",
    "    train = False,\n",
    "    transform = transforms.ToTensor(),\n",
    "    download = True\n",
    ")"
   ]
  },
  {
   "cell_type": "code",
   "execution_count": 182,
   "id": "2873c186-ecfa-4893-b4ee-ff699ff8d52b",
   "metadata": {},
   "outputs": [
    {
     "data": {
      "text/plain": [
       "Dataset MNIST\n",
       "    Number of datapoints: 60000\n",
       "    Root location: ./data/handigits/train\n",
       "    Split: Train\n",
       "    StandardTransform\n",
       "Transform: ToTensor()"
      ]
     },
     "execution_count": 182,
     "metadata": {},
     "output_type": "execute_result"
    }
   ],
   "source": [
    "train_dataset"
   ]
  },
  {
   "cell_type": "code",
   "execution_count": 183,
   "id": "e2e49be8-18ca-415c-81cf-65dc2ac76bb1",
   "metadata": {},
   "outputs": [
    {
     "data": {
      "text/plain": [
       "Dataset MNIST\n",
       "    Number of datapoints: 10000\n",
       "    Root location: ./data/handigits/test\n",
       "    Split: Test\n",
       "    StandardTransform\n",
       "Transform: ToTensor()"
      ]
     },
     "execution_count": 183,
     "metadata": {},
     "output_type": "execute_result"
    }
   ],
   "source": [
    "test_dataset"
   ]
  },
  {
   "cell_type": "code",
   "execution_count": 184,
   "id": "e32adf4c-4834-4eb7-aaed-e4ae4c485da4",
   "metadata": {},
   "outputs": [],
   "source": [
    "# training loader \n",
    "train_loader = DataLoader(\n",
    "    dataset = train_dataset,\n",
    "    batch_size = batch_size,\n",
    "    shuffle = True\n",
    ")\n",
    "\n",
    "# testing loader \n",
    "test_loader = DataLoader(\n",
    "    dataset = test_dataset,\n",
    "    batch_size = 10000,\n",
    "    shuffle = False\n",
    ")"
   ]
  },
  {
   "cell_type": "markdown",
   "id": "f2e29810-8a52-494b-b69f-2ba54f3263f0",
   "metadata": {},
   "source": [
    "## See Dataset"
   ]
  },
  {
   "cell_type": "code",
   "execution_count": 89,
   "id": "0f1be654-7f43-4ef3-9986-b7e1332f87a9",
   "metadata": {},
   "outputs": [
    {
     "name": "stdout",
     "output_type": "stream",
     "text": [
      "torch.Size([100, 1, 28, 28]) torch.Size([100])\n"
     ]
    }
   ],
   "source": [
    "iter_num = 0\n",
    "for images, labels in iter(train_loader):\n",
    "    print(images.shape, labels.shape)\n",
    "    break"
   ]
  },
  {
   "cell_type": "code",
   "execution_count": 201,
   "id": "1f9902d5-a695-4a81-8279-95609cddb4a0",
   "metadata": {},
   "outputs": [
    {
     "data": {
      "image/png": "[encoded data removed]",
      "text/plain": [
       "<Figure size 640x480 with 6 Axes>"
      ]
     },
     "metadata": {},
     "output_type": "display_data"
    }
   ],
   "source": [
    "for i in range(6):\n",
    "    plt.subplot(2,3,i+1)\n",
    "    plt.imshow(train_loader.dataset[i][0].reshape(28, 28),\n",
    "               cmap = 'grey')\n",
    "    plt.title(f\"label: {train_loader.dataset[i][1]}\")\n",
    "    plt.axis(\"off\")\n",
    "plt.suptitle(\"Samples\", size=20)\n",
    "plt.show()"
   ]
  },
  {
   "cell_type": "markdown",
   "id": "5b5ebe70-05ad-4bb6-902f-2f423d37a04f",
   "metadata": {},
   "source": [
    "## Configure Models"
   ]
  },
  {
   "cell_type": "code",
   "execution_count": 125,
   "id": "2a1ac45a-7d38-4466-8c37-cd02089a2450",
   "metadata": {},
   "outputs": [],
   "source": [
    "class NeuralNet(nn.Module):\n",
    "    # define initialization\n",
    "    def __init__(self,\n",
    "                 input_size = input_size,\n",
    "                 hidden_layer1_size = hidden_layer1_size,\n",
    "                 hidden_layer2_size = hidden_layer2_size,\n",
    "                 num_classes = num_classes):\n",
    "\n",
    "        # initialize nn.Module base class\n",
    "        super().__init__()\n",
    "\n",
    "        # initialize NeuralNet attributes\n",
    "        self.relu = nn.ReLU()\n",
    "        self.l1   = nn.Linear(input_size, hidden_layer1_size)\n",
    "        self.l2   = nn.Linear(hidden_layer1_size, hidden_layer2_size)\n",
    "        self.l3   = nn.Linear(hidden_layer2_size, num_classes)\n",
    "\n",
    "    # forward pass\n",
    "    def forward(self, X):\n",
    "        out = self.relu(self.l1(X))\n",
    "        out = self.relu(self.l2(out))\n",
    "        out = self.relu(self.l3(out))\n",
    "        return out\n",
    "\n",
    "# create model\n",
    "model = NeuralNet()\n",
    "\n",
    "# loss and optimizer\n",
    "criterion = nn.CrossEntropyLoss()\n",
    "optimizer = torch.optim.Adam(model.parameters(), lr = learning_rate)"
   ]
  },
  {
   "cell_type": "markdown",
   "id": "bc89838c-60f0-4a2e-8f5a-2ff02f70d201",
   "metadata": {},
   "source": [
    "## Training Loop"
   ]
  },
  {
   "cell_type": "code",
   "execution_count": 225,
   "id": "a73f1450-d6c5-474a-a442-eb2eacd7f3d9",
   "metadata": {},
   "outputs": [
    {
     "name": "stdout",
     "output_type": "stream",
     "text": [
      "Training Started\n",
      "epochs: 1/10, batch: 200/600, loss: 0.2534\n",
      "epochs: 1/10, batch: 400/600, loss: 0.2919\n",
      "epochs: 1/10, batch: 600/600, loss: 0.2827\n",
      "epochs: 2/10, batch: 200/600, loss: 0.2221\n",
      "epochs: 2/10, batch: 400/600, loss: 0.2077\n",
      "epochs: 2/10, batch: 600/600, loss: 0.1394\n",
      "epochs: 3/10, batch: 200/600, loss: 0.1621\n",
      "epochs: 3/10, batch: 400/600, loss: 0.1883\n",
      "epochs: 3/10, batch: 600/600, loss: 0.2715\n",
      "epochs: 4/10, batch: 200/600, loss: 0.2356\n",
      "epochs: 4/10, batch: 400/600, loss: 0.1614\n",
      "epochs: 4/10, batch: 600/600, loss: 0.2308\n",
      "epochs: 5/10, batch: 200/600, loss: 0.1843\n",
      "epochs: 5/10, batch: 400/600, loss: 0.2994\n",
      "epochs: 5/10, batch: 600/600, loss: 0.3001\n",
      "epochs: 6/10, batch: 200/600, loss: 0.2109\n",
      "epochs: 6/10, batch: 400/600, loss: 0.2613\n",
      "epochs: 6/10, batch: 600/600, loss: 0.2350\n",
      "epochs: 7/10, batch: 200/600, loss: 0.1153\n",
      "epochs: 7/10, batch: 400/600, loss: 0.2079\n",
      "epochs: 7/10, batch: 600/600, loss: 0.3003\n",
      "epochs: 8/10, batch: 200/600, loss: 0.2763\n",
      "epochs: 8/10, batch: 400/600, loss: 0.2074\n",
      "epochs: 8/10, batch: 600/600, loss: 0.2073\n",
      "epochs: 9/10, batch: 200/600, loss: 0.2774\n",
      "epochs: 9/10, batch: 400/600, loss: 0.2555\n",
      "epochs: 9/10, batch: 600/600, loss: 0.2536\n",
      "epochs: 10/10, batch: 200/600, loss: 0.2349\n",
      "epochs: 10/10, batch: 400/600, loss: 0.2478\n",
      "epochs: 10/10, batch: 600/600, loss: 0.2764\n",
      "Training ends\n"
     ]
    }
   ],
   "source": [
    "print_batches = 200\n",
    "loss_records = []\n",
    "\n",
    "# print training stars\n",
    "print(\"Training Started\")\n",
    "\n",
    "# iterate over epochs\n",
    "for epoch in range(num_epochs):\n",
    "   \n",
    "    # iterate over bathces\n",
    "    for i, (images, labels) in enumerate(train_loader):\n",
    "\n",
    "        # convert the shape of images and move it to device\n",
    "        images = images.reshape(-1, 784).to(device)\n",
    "        labels = labels.to(device)\n",
    "\n",
    "        # forward calculation\n",
    "        outputs = model.forward(images)\n",
    "        loss = criterion(outputs, labels)\n",
    "\n",
    "        # record loss on every epoch\n",
    "        loss_records.append(loss.item())\n",
    "        \n",
    "        # compute gradient\n",
    "        loss.backward()\n",
    "        optimizer.step()\n",
    "\n",
    "        # empty gradient\n",
    "        optimizer.zero_grad()\n",
    "\n",
    "        # print training repost for each batches\n",
    "        if (i+1) % print_batches == 0:\n",
    "            print(f\"epochs: {epoch+1}/{num_epochs}, batch: {i+1}/{len(train_loader)}, loss: {loss :.4f}\")\n",
    "\n",
    "\n",
    "# print training ends\n",
    "print(\"Training ends\")"
   ]
  },
  {
   "cell_type": "markdown",
   "id": "86581d55-d5f4-4cd0-91e3-ceca24cbca20",
   "metadata": {},
   "source": [
    "## Test Model Performances"
   ]
  },
  {
   "cell_type": "code",
   "execution_count": 226,
   "id": "573bea82-bbd5-4444-a63a-9c6798d4c24b",
   "metadata": {},
   "outputs": [],
   "source": [
    "with torch.no_grad():\n",
    "    for images, labels in iter(test_loader):\n",
    "        images = images.reshape(-1, 28*28).to(device)\n",
    "        y = labels.numpy()\n",
    "        \n",
    "        test_outputs = model(images)\n",
    "        _, predictions = torch.max(test_outputs, 1)\n",
    "        y_pred = predictions.numpy()"
   ]
  },
  {
   "cell_type": "markdown",
   "id": "d2428321-421c-4ab9-94a9-b7dccfdd8cba",
   "metadata": {},
   "source": [
    "## Evaluate Models"
   ]
  },
  {
   "cell_type": "code",
   "execution_count": 227,
   "id": "73baf19c-9d56-4661-b712-6b757b54bdbe",
   "metadata": {},
   "outputs": [],
   "source": [
    "from sklearn.metrics import classification_report, confusion_matrix, ConfusionMatrixDisplay\n",
    "import seaborn as sns"
   ]
  },
  {
   "cell_type": "code",
   "execution_count": 228,
   "id": "4348a396-d344-4f83-8c36-0da97f62d880",
   "metadata": {},
   "outputs": [
    {
     "name": "stdout",
     "output_type": "stream",
     "text": [
      "              precision    recall  f1-score   support\n",
      "\n",
      "           0       0.49      0.99      0.66       980\n",
      "           1       0.99      0.99      0.99      1135\n",
      "           2       0.00      0.00      0.00      1032\n",
      "           3       0.96      0.99      0.98      1010\n",
      "           4       0.99      0.98      0.98       982\n",
      "           5       0.99      0.97      0.98       892\n",
      "           6       0.97      0.98      0.98       958\n",
      "           7       0.96      0.98      0.97      1028\n",
      "           8       0.98      0.97      0.97       974\n",
      "           9       0.98      0.97      0.97      1009\n",
      "\n",
      "    accuracy                           0.88     10000\n",
      "   macro avg       0.83      0.88      0.85     10000\n",
      "weighted avg       0.83      0.88      0.85     10000\n",
      "\n"
     ]
    }
   ],
   "source": [
    "print(classification_report(y, y_pred, zero_division=0))"
   ]
  },
  {
   "cell_type": "code",
   "execution_count": 229,
   "id": "d1a04a7c-b3da-4fa8-bb32-5612de83fc13",
   "metadata": {},
   "outputs": [
    {
     "data": {
      "text/plain": [
       "<sklearn.metrics._plot.confusion_matrix.ConfusionMatrixDisplay at 0x1d4ad204890>"
      ]
     },
     "execution_count": 229,
     "metadata": {},
     "output_type": "execute_result"
    },
    {
     "data": {
      "image/png": "[encoded data removed]",
      "text/plain": [
       "<Figure size 640x480 with 2 Axes>"
      ]
     },
     "metadata": {},
     "output_type": "display_data"
    }
   ],
   "source": [
    "cm = confusion_matrix(y, y_pred)\n",
    "disp = ConfusionMatrixDisplay(\n",
    "    confusion_matrix = cm\n",
    ")\n",
    "disp.plot()"
   ]
  },
  {
   "cell_type": "code",
   "execution_count": null,
   "id": "e60ccde3-686f-472e-bf09-aff44ff1f206",
   "metadata": {},
   "outputs": [],
   "source": []
  }
 ],
 "metadata": {
  "kernelspec": {
   "display_name": "Python 3 (ipykernel)",
   "language": "python",
   "name": "python3"
  },
  "language_info": {
   "codemirror_mode": {
    "name": "ipython",
    "version": 3
   },
   "file_extension": ".py",
   "mimetype": "text/x-python",
   "name": "python",
   "nbconvert_exporter": "python",
   "pygments_lexer": "ipython3",
   "version": "3.12.3"
  }
 },
 "nbformat": 4,
 "nbformat_minor": 5
}
