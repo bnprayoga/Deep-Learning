{
 "cells": [
  {
   "cell_type": "code",
   "execution_count": 1,
   "id": "49328869-9a99-460b-adfa-a5bc69d05c75",
   "metadata": {},
   "outputs": [],
   "source": [
    "# data: https://download.pytorch.org/tutorial/data.zip\n",
    "import io\n",
    "import os\n",
    "import unicodedata\n",
    "import string\n",
    "import glob\n",
    "\n",
    "import torch\n",
    "import random\n",
    "\n",
    "import matplotlib.pyplot as plt"
   ]
  },
  {
   "cell_type": "code",
   "execution_count": 2,
   "id": "67299a7a-bebf-4a8a-a820-f9c7b883f457",
   "metadata": {},
   "outputs": [
    {
     "name": "stdout",
     "output_type": "stream",
     "text": [
      "ALL LETTERS:  abcdefghijklmnopqrstuvwxyzABCDEFGHIJKLMNOPQRSTUVWXYZ .,;'\n"
     ]
    }
   ],
   "source": [
    "# alphabet small + capital letters + \" .,;'\"\n",
    "ALL_LETTERS = string.ascii_letters + \" .,;'\"\n",
    "N_LETTERS = len(ALL_LETTERS)\n",
    "\n",
    "print(\"ALL LETTERS: \", ALL_LETTERS)"
   ]
  },
  {
   "cell_type": "code",
   "execution_count": 3,
   "id": "6c2ab98f-09b3-4292-805b-db37cc36529f",
   "metadata": {},
   "outputs": [
    {
     "data": {
      "text/plain": [
       "42"
      ]
     },
     "execution_count": 3,
     "metadata": {},
     "output_type": "execute_result"
    }
   ],
   "source": [
    "# find the index of string\n",
    "ALL_LETTERS.find('Q')"
   ]
  },
  {
   "cell_type": "markdown",
   "id": "3d768334-32f0-418b-a32a-3d18e2586098",
   "metadata": {},
   "source": [
    "### Function to Convert Sequence/Words into ASCII"
   ]
  },
  {
   "cell_type": "code",
   "execution_count": 4,
   "id": "10c3aa77-e7e8-4d7b-9f17-a8d4fb4fa56f",
   "metadata": {},
   "outputs": [],
   "source": [
    "# Turn a Unicode string to plain ASCII, thanks to https://stackoverflow.com/a/518232/2809427\n",
    "def unicode_to_ascii(s):\n",
    "    return ''.join(\n",
    "        c for c in unicodedata.normalize('NFD', s)\n",
    "        if unicodedata.category(c) != 'Mn'\n",
    "        and c in ALL_LETTERS\n",
    "    )"
   ]
  },
  {
   "cell_type": "code",
   "execution_count": 5,
   "id": "d4fdfd7e-f2c7-4606-9391-43b4440a7394",
   "metadata": {},
   "outputs": [
    {
     "data": {
      "text/plain": [
       "'Bagas Nur Prayoga'"
      ]
     },
     "execution_count": 5,
     "metadata": {},
     "output_type": "execute_result"
    }
   ],
   "source": [
    "unicode_to_ascii('Bagas Nu7521r Prayoga1238/>')"
   ]
  },
  {
   "cell_type": "markdown",
   "id": "05de0760-8e19-4749-8e54-394e04a51a5f",
   "metadata": {},
   "source": [
    "### Function to Load Data"
   ]
  },
  {
   "cell_type": "code",
   "execution_count": 6,
   "id": "3d191263-7951-4e56-88bb-4de64465a11a",
   "metadata": {},
   "outputs": [],
   "source": [
    "def load_data():\n",
    "    # Build the category_lines dictionary, a list of names per language\n",
    "    category_lines = {}\n",
    "    all_categories = []\n",
    "    \n",
    "    def find_files(path):\n",
    "        # Return a list of paths matching a pathname pattern.\n",
    "        return glob.glob(path)\n",
    "    \n",
    "    # Read a file and split into lines\n",
    "    def read_lines(filename):\n",
    "        # Open file and return a stream\n",
    "        lines = io.open(filename, encoding='utf-8').read().strip().split('\\n')\n",
    "        return [unicode_to_ascii(line) for line in lines]\n",
    "    \n",
    "    for filename in find_files('data/names/*.txt'):\n",
    "        category = os.path.splitext(os.path.basename(filename))[0]\n",
    "        all_categories.append(category)\n",
    "        \n",
    "        lines = read_lines(filename)\n",
    "        category_lines[category] = lines\n",
    "        \n",
    "    return category_lines, all_categories"
   ]
  },
  {
   "cell_type": "code",
   "execution_count": 7,
   "id": "46b79f47-3f0e-415a-b775-93fec4403a1b",
   "metadata": {},
   "outputs": [],
   "source": [
    "data = load_data()"
   ]
  },
  {
   "cell_type": "code",
   "execution_count": 8,
   "id": "4ed9bb4f-1998-4eba-93f5-5c242410a989",
   "metadata": {},
   "outputs": [],
   "source": [
    "category_lines, all_categories = data"
   ]
  },
  {
   "cell_type": "code",
   "execution_count": 9,
   "id": "1022f527-84dd-4eca-a582-a86e93a05402",
   "metadata": {},
   "outputs": [
    {
     "data": {
      "text/plain": [
       "tuple"
      ]
     },
     "execution_count": 9,
     "metadata": {},
     "output_type": "execute_result"
    }
   ],
   "source": [
    "type(data)"
   ]
  },
  {
   "cell_type": "code",
   "execution_count": 10,
   "id": "47fd31c4-740e-4393-829c-f55978611dce",
   "metadata": {},
   "outputs": [
    {
     "data": {
      "text/plain": [
       "(dict, list)"
      ]
     },
     "execution_count": 10,
     "metadata": {},
     "output_type": "execute_result"
    }
   ],
   "source": [
    "# dict of country with its all names, and list of all countries/categories\n",
    "type(data[0]), type(data[1])"
   ]
  },
  {
   "cell_type": "code",
   "execution_count": 11,
   "id": "8e5878af-3892-4f82-ba51-beec8fea2e2a",
   "metadata": {},
   "outputs": [
    {
     "data": {
      "text/plain": [
       "18"
      ]
     },
     "execution_count": 11,
     "metadata": {},
     "output_type": "execute_result"
    }
   ],
   "source": [
    "n_outputs = len(data[1])\n",
    "n_outputs"
   ]
  },
  {
   "cell_type": "markdown",
   "id": "83169509-78de-4f64-98cb-b25308d710ca",
   "metadata": {},
   "source": [
    "## Function to Turn Names into Tensor"
   ]
  },
  {
   "cell_type": "code",
   "execution_count": 12,
   "id": "595758e4-6484-4e34-a1ed-f87156fdb028",
   "metadata": {},
   "outputs": [
    {
     "name": "stdout",
     "output_type": "stream",
     "text": [
      "tensor([[0., 0., 0., 0., 0., 0., 0., 0., 0., 0., 0., 0., 0., 0., 0., 0., 0., 0.,\n",
      "         0., 0., 0., 0., 0., 0., 0., 0., 0., 0., 0., 0., 0., 0., 0., 0., 0., 1.,\n",
      "         0., 0., 0., 0., 0., 0., 0., 0., 0., 0., 0., 0., 0., 0., 0., 0., 0., 0.,\n",
      "         0., 0., 0.]])\n",
      "torch.Size([5, 1, 57])\n"
     ]
    }
   ],
   "source": [
    "# Find letter index from all_letters, e.g. \"a\" = 0\n",
    "def letter_to_index(letter):\n",
    "    return ALL_LETTERS.find(letter)\n",
    "\n",
    "# Just for demonstration, turn a letter into a <1 x n_letters> Tensor\n",
    "def letter_to_tensor(letter):\n",
    "    tensor = torch.zeros(1, N_LETTERS)\n",
    "    tensor[0][letter_to_index(letter)] = 1\n",
    "    return tensor\n",
    "\n",
    "# Turn a line into a <line_length x 1 x n_letters>,\n",
    "# or an array of one-hot letter vectors\n",
    "def line_to_tensor(line):\n",
    "    tensor = torch.zeros(len(line), 1, N_LETTERS)\n",
    "    for li, letter in enumerate(line):\n",
    "        tensor[li][0][letter_to_index(letter)] = 1\n",
    "    return tensor\n",
    "\n",
    "print(letter_to_tensor('J'))\n",
    "\n",
    "print(line_to_tensor('Jones').size())"
   ]
  },
  {
   "cell_type": "markdown",
   "id": "fed023b6-acd4-4f1a-bc1c-73fb7194f92c",
   "metadata": {},
   "source": [
    "## Create RNN Model"
   ]
  },
  {
   "cell_type": "code",
   "execution_count": 13,
   "id": "ecb41aa8-cea1-4001-b34b-c5284a77427e",
   "metadata": {},
   "outputs": [],
   "source": [
    "import torch.nn as nn\n",
    "import torch.nn.functional as F"
   ]
  },
  {
   "cell_type": "code",
   "execution_count": 14,
   "id": "4c47d89c-7785-409d-ac11-1908771bc2b0",
   "metadata": {},
   "outputs": [],
   "source": [
    "class RNN(nn.Module):\n",
    "\n",
    "    # initialize RNN Parameters\n",
    "    def __init__(self, input_size, hidden_size, output_size):\n",
    "        super(RNN, self).__init__()\n",
    "\n",
    "        # store input size and hidden size\n",
    "        self.input_size = input_size\n",
    "        self.hidden_size = hidden_size\n",
    "        self.output_size = output_size\n",
    "\n",
    "        # defining nodes\n",
    "        self.i2h = nn.Linear(self.input_size, self.hidden_size)\n",
    "        self.h2h = nn.Linear(self.hidden_size, self.hidden_size)\n",
    "        self.h2o = nn.Linear(self.hidden_size, self.output_size)\n",
    "\n",
    "        # softmax function\n",
    "        self.softmax = nn.LogSoftmax(dim=1)\n",
    "\n",
    "    # forward step\n",
    "    def forward(self, input, hidden):\n",
    "        hidden = F.tanh(self.i2h(input) + self.h2h(hidden))\n",
    "        output = self.h2o(hidden)\n",
    "        output = self.softmax(output)\n",
    "        return output, hidden\n",
    "\n",
    "    # initialize hidden\n",
    "    def init_hidden(self):\n",
    "        return torch.zeros(1, self.hidden_size)"
   ]
  },
  {
   "cell_type": "code",
   "execution_count": 15,
   "id": "7b518f2f-f7a8-4c6d-a4fc-e0c04a9ba63c",
   "metadata": {},
   "outputs": [],
   "source": [
    "# example\n",
    "n_hidden = 128\n",
    "rnn = RNN(N_LETTERS, n_hidden, n_outputs)"
   ]
  },
  {
   "cell_type": "markdown",
   "id": "f84569d2-01cd-4209-a8f1-3fb4d126c4f6",
   "metadata": {},
   "source": [
    "### Create RNN Model : Demonstration"
   ]
  },
  {
   "cell_type": "code",
   "execution_count": 16,
   "id": "fce74a82-7fef-402a-ab06-beb661e96d24",
   "metadata": {},
   "outputs": [],
   "source": [
    "input = letter_to_tensor('A')\n",
    "hidden = torch.zeros(1, n_hidden)\n",
    "\n",
    "output, hidden = rnn(input, hidden)"
   ]
  },
  {
   "cell_type": "code",
   "execution_count": 17,
   "id": "3acb005c-95c4-44cf-b6d6-649ebc3b6ce7",
   "metadata": {},
   "outputs": [
    {
     "data": {
      "text/plain": [
       "tensor([[-2.8674, -2.9173, -3.0055, -2.8191, -2.8899, -3.0916, -2.8097, -2.9425,\n",
       "         -3.0609, -2.8661, -2.8857, -2.7996, -2.8648, -2.9192, -2.7719, -2.8875,\n",
       "         -2.8155, -2.8749]], grad_fn=<LogSoftmaxBackward0>)"
      ]
     },
     "execution_count": 17,
     "metadata": {},
     "output_type": "execute_result"
    }
   ],
   "source": [
    "output"
   ]
  },
  {
   "cell_type": "code",
   "execution_count": 18,
   "id": "224f270a-8417-4c00-a5db-07b07b46f561",
   "metadata": {},
   "outputs": [
    {
     "data": {
      "text/plain": [
       "tensor(14)"
      ]
     },
     "execution_count": 18,
     "metadata": {},
     "output_type": "execute_result"
    }
   ],
   "source": [
    "torch.argmax(output)"
   ]
  },
  {
   "cell_type": "code",
   "execution_count": 19,
   "id": "aa15694c-e1a5-48a1-909f-50ee9e944e9e",
   "metadata": {},
   "outputs": [
    {
     "data": {
      "text/plain": [
       "'Russian'"
      ]
     },
     "execution_count": 19,
     "metadata": {},
     "output_type": "execute_result"
    }
   ],
   "source": [
    "all_categories[torch.argmax(output, dim=-1)]"
   ]
  },
  {
   "cell_type": "markdown",
   "id": "b80608ea-40cf-4851-b547-f7ec7c7f8b0a",
   "metadata": {},
   "source": [
    "## Training"
   ]
  },
  {
   "cell_type": "markdown",
   "id": "d8228f8c-fff0-46ab-92de-6c3bee91edb0",
   "metadata": {},
   "source": [
    "### Training : Helper Function for Training"
   ]
  },
  {
   "cell_type": "code",
   "execution_count": 20,
   "id": "d54c26c7-2b3b-4e72-af2e-821425eeed5b",
   "metadata": {},
   "outputs": [],
   "source": [
    "# helper function to get a tuples of category and its corresponding category names\n",
    "def category_from_output(output):\n",
    "    category_i = torch.argmax(output, dim=-1).item()\n",
    "    return all_categories[category_i], category_i"
   ]
  },
  {
   "cell_type": "code",
   "execution_count": 21,
   "id": "ed9f1940-c803-4079-82a0-d404a6a41fa0",
   "metadata": {},
   "outputs": [
    {
     "data": {
      "text/plain": [
       "('Russian', 14)"
      ]
     },
     "execution_count": 21,
     "metadata": {},
     "output_type": "execute_result"
    }
   ],
   "source": [
    "category_from_output(output)"
   ]
  },
  {
   "cell_type": "code",
   "execution_count": 22,
   "id": "00b0416f-fa8a-48ad-bf63-1ba3d82d8faf",
   "metadata": {},
   "outputs": [],
   "source": [
    "# helper function to create random training examples\n",
    "\n",
    "# random choice\n",
    "def random_choice(lis):\n",
    "    return lis[random.randint(0, len(lis)-1)]\n",
    "\n",
    "# random training example\n",
    "def random_training_example():\n",
    "    # get the category --> ex: 'English'\n",
    "    category = random_choice(all_categories)\n",
    "\n",
    "    # get the name within the category\n",
    "    line = random_choice(category_lines[category])\n",
    "\n",
    "    # create a category tensor from category index within all_categories list\n",
    "    category_tensor = torch.tensor([all_categories.index(category)], dtype=torch.long)\n",
    "\n",
    "    # create a tensor line\n",
    "    line_tensor = line_to_tensor(line)\n",
    "\n",
    "    return category, line, category_tensor, line_tensor"
   ]
  },
  {
   "cell_type": "code",
   "execution_count": 27,
   "id": "3116a2b7-1d7d-4fee-8d62-a8ead1341eaa",
   "metadata": {},
   "outputs": [
    {
     "name": "stdout",
     "output_type": "stream",
     "text": [
      "category = Italian || line = Aita\n",
      "tensor([9])\n",
      "torch.Size([1])\n",
      "category = Spanish || line = Villanueva\n",
      "tensor([16])\n",
      "torch.Size([1])\n",
      "category = Irish || line = Naoimhin\n",
      "tensor([8])\n",
      "torch.Size([1])\n",
      "category = Polish || line = Mencher\n",
      "tensor([12])\n",
      "torch.Size([1])\n",
      "category = Irish || line = O'Mahoney\n",
      "tensor([8])\n",
      "torch.Size([1])\n",
      "category = Irish || line = Suaird\n",
      "tensor([8])\n",
      "torch.Size([1])\n",
      "category = Korean || line = Ko\n",
      "tensor([11])\n",
      "torch.Size([1])\n",
      "category = Chinese || line = Shuo\n",
      "tensor([1])\n",
      "torch.Size([1])\n",
      "category = Irish || line = O'Brien\n",
      "tensor([8])\n",
      "torch.Size([1])\n",
      "category = Greek || line = Phocas\n",
      "tensor([7])\n",
      "torch.Size([1])\n",
      "category = Dutch || line = Peerenboom\n",
      "tensor([3])\n",
      "torch.Size([1])\n",
      "category = Japanese || line = Tagawa\n",
      "tensor([10])\n",
      "torch.Size([1])\n",
      "category = Portuguese || line = Fonseca\n",
      "tensor([13])\n",
      "torch.Size([1])\n",
      "category = German || line = Raskoph\n",
      "tensor([6])\n",
      "torch.Size([1])\n",
      "category = Chinese || line = Koo\n",
      "tensor([1])\n",
      "torch.Size([1])\n",
      "category = Russian || line = Velli\n",
      "tensor([14])\n",
      "torch.Size([1])\n",
      "category = Dutch || line = Peusen\n",
      "tensor([3])\n",
      "torch.Size([1])\n",
      "category = Russian || line = Tzenin\n",
      "tensor([14])\n",
      "torch.Size([1])\n",
      "category = Korean || line = Kwak\n",
      "tensor([11])\n",
      "torch.Size([1])\n",
      "category = English || line = Oxby\n",
      "tensor([4])\n",
      "torch.Size([1])\n"
     ]
    }
   ],
   "source": [
    "for i in range(20):\n",
    "    category, line, category_line, line_tensor = random_training_example()\n",
    "    print(f\"category = {category} || line = {line}\")\n",
    "    print(category_line)\n",
    "    print(category_line.size())"
   ]
  },
  {
   "cell_type": "markdown",
   "id": "5db0e87e-9794-4316-aaf1-4b8748c7c040",
   "metadata": {},
   "source": [
    "### Training : Training Phase\n",
    "\n",
    "Each Loop of training will:\n",
    "* create input and target tensor\n",
    "* create zeros initial hidden state\n",
    "* read each letter in and keep hidden state for next letter\n",
    "* compare final output to target\n",
    "* back-propagate\n",
    "* return the output and lossutput and loss"
   ]
  },
  {
   "cell_type": "code",
   "execution_count": 28,
   "id": "8210faa6-be6b-41b1-b4e4-062aa5a965fe",
   "metadata": {},
   "outputs": [],
   "source": [
    "# if you set it too low it will not learn anything, but if it set too high it will explode\n",
    "learning_rate = 0.005"
   ]
  },
  {
   "cell_type": "code",
   "execution_count": 29,
   "id": "90341982-d84c-4a60-81c5-bda5897d0f94",
   "metadata": {},
   "outputs": [],
   "source": [
    "# we'll use `nn.LLLoss()` since the last layer of the RNN is nn.LogSoftmax\n",
    "criterion = nn.NLLLoss()\n",
    "\n",
    "# optimize will use Stochastic Gradient Descent\n",
    "optimizer = torch.optim.SGD(rnn.parameters(), lr = learning_rate)"
   ]
  },
  {
   "cell_type": "code",
   "execution_count": 30,
   "id": "f8530987-e8ae-44e8-be61-6740adf7524f",
   "metadata": {},
   "outputs": [],
   "source": [
    "def train(category_tensor, line_tensor):\n",
    "    # initialize hidden input of zeros\n",
    "    hidden = rnn.init_hidden()\n",
    "\n",
    "    # empty the gradient\n",
    "    rnn.zero_grad()\n",
    "\n",
    "    # re-run the procedure for n number of letter within name\n",
    "    for i in range(line_tensor.size()[0]):\n",
    "        output, hidden = rnn(line_tensor[i], hidden)\n",
    "\n",
    "    # compute loss and gradient\n",
    "    loss = criterion(output, category_tensor)\n",
    "\n",
    "    # zero grad\n",
    "    optimizer.zero_grad()\n",
    "    loss.backward()\n",
    "    optimizer.step()\n",
    "\n",
    "    return output, loss.item()"
   ]
  },
  {
   "cell_type": "markdown",
   "id": "5d44c9b0-c3f2-4782-b517-ab01e705e5c5",
   "metadata": {},
   "source": [
    "Now we just have to run that with a bunch of examples. Since the train function returns both the output and loss we can print its guesses and also keep track of loss for plotting. Since there are 1000s of examples we print only every print_every examples, and take an average of the loss."
   ]
  },
  {
   "cell_type": "code",
   "execution_count": 147,
   "id": "c2114dac-7d18-45af-8977-c09233e0fc4b",
   "metadata": {},
   "outputs": [
    {
     "name": "stdout",
     "output_type": "stream",
     "text": [
      "2500 2 0m 4s 1.9362==Breda / Spanish FALSE (Dutch)\n",
      "5000 5 0m 9s 0.1496==Ondrisek / Czech TRUE\n",
      "7500 8 0m 13s 0.3960==Matos / Portuguese TRUE\n",
      "10000 10 0m 20s 0.0181==Teague / Irish TRUE\n",
      "12500 12 0m 27s 0.3505==Lobo / Portuguese TRUE\n",
      "15000 15 0m 33s 0.2244==Blazek / Czech TRUE\n",
      "17500 18 0m 38s 1.3410==Smith / English FALSE (Scottish)\n",
      "20000 20 0m 44s 0.0034==Locatelli / Italian TRUE\n",
      "22500 22 0m 50s 0.0086==Zouvelekis / Greek TRUE\n",
      "25000 25 0m 56s 0.0009==Totah / Arabic TRUE\n",
      "27500 28 1m 1s 0.6289==Maloney / English TRUE\n",
      "30000 30 1m 7s 0.1524==Sullivan / Irish TRUE\n",
      "32500 32 1m 13s 0.4524==Aleppo / Italian TRUE\n",
      "35000 35 1m 19s 3.6836==Durant / French FALSE (English)\n",
      "37500 38 1m 25s 0.1028==Xiang / Chinese TRUE\n",
      "40000 40 1m 30s 0.3716==Murphy / Scottish TRUE\n",
      "42500 42 1m 36s 0.0261==Mateus / Portuguese TRUE\n",
      "45000 45 1m 42s 1.4709==Schneider / Czech FALSE (Dutch)\n",
      "47500 48 1m 48s 2.5126==Mulder / German FALSE (Dutch)\n",
      "50000 50 1m 54s 0.0014==Ochida / Japanese TRUE\n",
      "52500 52 2m 0s 0.3415==Vickery / English TRUE\n",
      "55000 55 2m 6s 0.0333==Sarraf / Arabic TRUE\n",
      "57500 58 2m 11s 0.0319==Hanek / Czech TRUE\n",
      "60000 60 2m 17s 0.9124==Jones / Scottish TRUE\n",
      "62500 62 2m 23s 0.0070==Tahan / Arabic TRUE\n",
      "65000 65 2m 29s 0.0512==Rosario / Portuguese TRUE\n",
      "67500 68 2m 35s 3.3952==Donndubhan / Vietnamese FALSE (Irish)\n",
      "70000 70 2m 42s 0.0607==Venne / Dutch TRUE\n",
      "72500 72 2m 48s 0.4907==Lang / Chinese TRUE\n",
      "75000 75 2m 54s 0.4317==Kokkali / Greek TRUE\n",
      "77500 78 3m 0s 0.0113==Kouri / Arabic TRUE\n",
      "80000 80 3m 6s 1.4641==Jackson / English FALSE (Scottish)\n",
      "82500 82 3m 12s 1.1582==Egleton / Dutch FALSE (English)\n",
      "85000 85 3m 18s 0.0222==Mozdzierz / Polish TRUE\n",
      "87500 88 3m 24s 0.0006==Paitakes / Greek TRUE\n",
      "90000 90 3m 30s 0.0077==Sneijders / Dutch TRUE\n",
      "92500 92 3m 36s 0.2526==Hruskova / Czech TRUE\n",
      "95000 95 3m 42s 0.0215==Zhang / Chinese TRUE\n",
      "97500 98 3m 48s 0.0344==Mikolajczak / Polish TRUE\n",
      "100000 100 3m 55s 0.0617==Bazarhandaev / Russian TRUE\n"
     ]
    }
   ],
   "source": [
    "import time\n",
    "import math\n",
    "\n",
    "n_iters = 100000\n",
    "print_every = 2500\n",
    "plot_every = 1000\n",
    "\n",
    "# keep track loss for plotting\n",
    "current_loss = 0\n",
    "all_losses = []\n",
    "\n",
    "def time_since(since):\n",
    "    now = time.time()\n",
    "    s = now-since\n",
    "    m = math.floor(s/60)\n",
    "    s -= m * 60\n",
    "    return '%dm %ds' % (m, s)\n",
    "\n",
    "start = time.time()\n",
    "\n",
    "for iter in range(1, n_iters+1):\n",
    "    # get training examples\n",
    "    category, line, category_tensor, line_tensor = random_training_example()\n",
    "\n",
    "    # train the model\n",
    "    output, loss = train(category_tensor, line_tensor)\n",
    "    current_loss += loss\n",
    "\n",
    "    # track the losses\n",
    "    if iter % plot_every == 0:\n",
    "        # append the average losses\n",
    "        all_losses.append(current_loss/plot_every)\n",
    "        # set current loss back to zero\n",
    "        current_loss = 0\n",
    "\n",
    "    # print the result\n",
    "    if iter % print_every == 0:\n",
    "        guess, guess_i = category_from_output(output)\n",
    "        \n",
    "        if guess == category: \n",
    "            correct = 'TRUE' \n",
    "        else: correct = 'FALSE'+f' ({category})'\n",
    "\n",
    "        print(f\"{iter} {100*iter/n_iters :.0f} {time_since(start)} {loss:.4f}=={line} / {guess} {correct}\")"
   ]
  },
  {
   "cell_type": "code",
   "execution_count": 148,
   "id": "8308aa9e-941a-4896-8ba7-71a4d54aaacc",
   "metadata": {},
   "outputs": [
    {
     "data": {
      "text/plain": [
       "[<matplotlib.lines.Line2D at 0x27fcad15940>]"
      ]
     },
     "execution_count": 148,
     "metadata": {},
     "output_type": "execute_result"
    },
    {
     "data": {
      "image/png": "[encoded data removed]",
      "text/plain": [
       "<Figure size 640x480 with 1 Axes>"
      ]
     },
     "metadata": {},
     "output_type": "display_data"
    }
   ],
   "source": [
    "plt.plot(all_losses)"
   ]
  },
  {
   "cell_type": "code",
   "execution_count": 138,
   "id": "04b8ae96-a0e3-4eb2-ac65-917e7a1ad7c2",
   "metadata": {},
   "outputs": [],
   "source": [
    "# Just return an output given a line\n",
    "def evaluate(line_tensor):\n",
    "    hidden = rnn.init_hidden()\n",
    "\n",
    "    for i in range(line_tensor.size()[0]):\n",
    "        output, hidden = rnn(line_tensor[i], hidden)\n",
    "\n",
    "    return output"
   ]
  },
  {
   "cell_type": "code",
   "execution_count": 139,
   "id": "698deb09-45ec-433e-9e63-a07eedbaaf77",
   "metadata": {},
   "outputs": [],
   "source": [
    "def predict(input_line, n_predictions=3):\n",
    "    print('\\n> %s' % input_line)\n",
    "    with torch.no_grad():\n",
    "        output = evaluate(lineToTensor(input_line))\n",
    "\n",
    "        # Get top N categories\n",
    "        topv, topi = output.topk(n_predictions, 1, True)\n",
    "        predictions = []\n",
    "\n",
    "        for i in range(n_predictions):\n",
    "            value = topv[0][i].item()\n",
    "            category_index = topi[0][i].item()\n",
    "            print('(%.2f) %s' % (value, all_categories[category_index]))\n",
    "            predictions.append([value, all_categories[category_index]])"
   ]
  },
  {
   "cell_type": "code",
   "execution_count": 149,
   "id": "6e05896b-a2fd-42f4-beae-18a5f729b74f",
   "metadata": {},
   "outputs": [
    {
     "name": "stdout",
     "output_type": "stream",
     "text": [
      "\n",
      "> Yanbarisov\n",
      "(-0.00) Russian\n",
      "(-6.65) Czech\n",
      "(-6.73) English\n"
     ]
    }
   ],
   "source": [
    "predict('Yanbarisov')"
   ]
  },
  {
   "cell_type": "code",
   "execution_count": 150,
   "id": "e58a6b90-c3f9-4e70-b245-f0b4ccdc3e71",
   "metadata": {},
   "outputs": [
    {
     "name": "stdout",
     "output_type": "stream",
     "text": [
      "\n",
      "> Sarkozi\n",
      "(-0.53) Italian\n",
      "(-1.95) Japanese\n",
      "(-2.15) Spanish\n"
     ]
    }
   ],
   "source": [
    "predict('Sarkozi')"
   ]
  },
  {
   "cell_type": "code",
   "execution_count": 151,
   "id": "17e6edff-6d52-41cd-ad41-7d039b0df24d",
   "metadata": {},
   "outputs": [
    {
     "name": "stdout",
     "output_type": "stream",
     "text": [
      "\n",
      "> Trotman\n",
      "(-0.77) English\n",
      "(-1.35) French\n",
      "(-2.26) German\n"
     ]
    }
   ],
   "source": [
    "predict('Trotman')"
   ]
  },
  {
   "cell_type": "code",
   "execution_count": 155,
   "id": "c3020dbe-dde0-4c81-be4e-9e2b756f4cd7",
   "metadata": {},
   "outputs": [
    {
     "data": {
      "text/plain": [
       "<bound method Module.parameters of RNN(\n",
       "  (i2h): Linear(in_features=57, out_features=128, bias=True)\n",
       "  (h2h): Linear(in_features=128, out_features=128, bias=True)\n",
       "  (h2o): Linear(in_features=128, out_features=18, bias=True)\n",
       "  (softmax): LogSoftmax(dim=1)\n",
       ")>"
      ]
     },
     "execution_count": 155,
     "metadata": {},
     "output_type": "execute_result"
    }
   ],
   "source": [
    "rnn.parameters"
   ]
  },
  {
   "cell_type": "code",
   "execution_count": null,
   "id": "8ce8608d-e608-433a-9d5b-a23eb13fbb06",
   "metadata": {},
   "outputs": [],
   "source": []
  }
 ],
 "metadata": {
  "kernelspec": {
   "display_name": "Python 3 (ipykernel)",
   "language": "python",
   "name": "python3"
  },
  "language_info": {
   "codemirror_mode": {
    "name": "ipython",
    "version": 3
   },
   "file_extension": ".py",
   "mimetype": "text/x-python",
   "name": "python",
   "nbconvert_exporter": "python",
   "pygments_lexer": "ipython3",
   "version": "3.12.3"
  }
 },
 "nbformat": 4,
 "nbformat_minor": 5
}
